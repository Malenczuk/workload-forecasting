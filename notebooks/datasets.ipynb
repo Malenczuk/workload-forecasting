{
 "cells": [
  {
   "cell_type": "code",
   "execution_count": 2,
   "metadata": {},
   "outputs": [],
   "source": [
    "from utils.prometheus import *\n",
    "from utils.data import *\n",
    "import pickle"
   ]
  },
  {
   "cell_type": "code",
   "execution_count": 3,
   "metadata": {},
   "outputs": [],
   "source": [
    "hf_data = get_hf_data(\"../data/hf-data.pkl.gzip\")\n",
    "hf_static = get_hf_static_data(hf_data)\n",
    "durations = hf_data[\"end\"] - hf_data[\"start\"]"
   ]
  },
  {
   "cell_type": "markdown",
   "metadata": {},
   "source": [
    "# Montage2\n",
    "|   |   |\n",
    "|:-:|:-:|\n",
    "|duration  |>= 5 min       |\n",
    "|split     |0.75 - 0 - 0.25|\n",
    "|steps     |[5, 10, 15]    |\n",
    "|past_sec  |[60, 120, 180] |\n",
    "|future_sec|[60, 120, 180] |"
   ]
  },
  {
   "cell_type": "code",
   "execution_count": 86,
   "metadata": {},
   "outputs": [],
   "source": [
    "dataset = \"montage2_gte_5min\"\n",
    "montage2_gte_5min = hf_data[(hf_data[\"workflowName\"] == \"montage2\") & (durations >= timedelta(minutes=5)) & (durations <= timedelta(hours=10))].copy()\n",
    "montage2_gte_5min.loc[montage2_gte_5min[\"size\"] == 619.0, \"size\"] = 0.25\n",
    "montage2_gte_5min[\"size\"] = pd.to_numeric(montage2_gte_5min[\"size\"], downcast=\"float\")"
   ]
  },
  {
   "cell_type": "code",
   "execution_count": 87,
   "metadata": {},
   "outputs": [],
   "source": [
    "steps = [5, 10, 15]\n",
    "n_pasts = [1 * 60, 2 * 60, 3 * 60]\n",
    "n_futures = [1 * 60, 2 * 60, 3 * 60]\n",
    "\n",
    "create_dataset(hf_data, dataset, montage2_gte_5min, steps, n_pasts, n_futures)"
   ]
  },
  {
   "cell_type": "markdown",
   "metadata": {},
   "source": [
    "# Montage2\n",
    "|   |   |\n",
    "|:-:|:-:|\n",
    "|duration  |>= 10 min                |\n",
    "|split     |0.75 - 0 - 0.25          |\n",
    "|steps     |[5, 10, 15, 30]          |\n",
    "|past_sec  |[60, 120, 180, 240, 300] |\n",
    "|future_sec|[60, 120, 180, 240, 300] |"
   ]
  },
  {
   "cell_type": "code",
   "execution_count": 88,
   "metadata": {},
   "outputs": [],
   "source": [
    "dataset = \"montage2_gte_10min\"\n",
    "montage2_gte_10min = hf_data[(hf_data[\"workflowName\"] == \"montage2\") & (durations >= timedelta(minutes=10)) & (durations <= timedelta(hours=10))].copy()\n",
    "montage2_gte_10min[\"size\"] = pd.to_numeric(montage2_gte_10min[\"size\"], downcast=\"float\")"
   ]
  },
  {
   "cell_type": "code",
   "execution_count": 89,
   "metadata": {},
   "outputs": [],
   "source": [
    "steps = [5, 10, 15, 30]\n",
    "n_pasts = [1 * 60, 2 * 60, 3 * 60, 4 * 60, 5 * 60]\n",
    "n_futures = [1 * 60, 2 * 60, 3 * 60, 4 * 60, 5 * 60]\n",
    "\n",
    "create_dataset(hf_data, dataset, montage2_gte_5min, steps, n_pasts, n_futures)"
   ]
  },
  {
   "cell_type": "markdown",
   "metadata": {},
   "source": [
    "# Montage\n",
    "|   |   |\n",
    "|:-:|:-:|\n",
    "|duration  |>= 5 min                 |\n",
    "|split     |0.75 - 0 - 0.25          |\n",
    "|steps     |[5, 10, 15, 30]          |\n",
    "|past_sec  |[60, 120, 180]           |\n",
    "|future_sec|[60, 120, 180]           |"
   ]
  },
  {
   "cell_type": "code",
   "execution_count": 90,
   "metadata": {},
   "outputs": [],
   "source": [
    "dataset = \"montage_gte_5min\"\n",
    "montage_gte_5min = hf_data[(hf_data[\"workflowName\"] == \"montage\") & (durations >= timedelta(minutes=5)) & (durations < timedelta(minutes=60))].copy()\n",
    "montage_gte_5min[\"size\"] = pd.to_numeric(montage_gte_5min[\"size\"], downcast=\"float\")"
   ]
  },
  {
   "cell_type": "code",
   "execution_count": 91,
   "metadata": {},
   "outputs": [],
   "source": [
    "steps = [5, 10, 15]\n",
    "n_pasts = [1 * 60, 2 * 60, 3 * 60]\n",
    "n_futures = [1 * 60, 2 * 60, 3 * 60]\n",
    "\n",
    "create_dataset(hf_data, dataset, montage2_gte_5min, steps, n_pasts, n_futures)"
   ]
  },
  {
   "cell_type": "markdown",
   "metadata": {},
   "source": [
    "# SoyKB\n",
    "|   |   |\n",
    "|:-:|:-:|\n",
    "|split     |0.75 - 0 - 0.25           |\n",
    "|steps     |[10, 15, 30, 60]          |\n",
    "|past_sec  |[120, 180, 240, 300, 600] |\n",
    "|future_sec|[120, 180, 240, 300, 600] |"
   ]
  },
  {
   "cell_type": "code",
   "execution_count": 92,
   "metadata": {},
   "outputs": [],
   "source": [
    "dataset = \"soykb\"\n",
    "soykb = hf_data[(hf_data[\"workflowName\"] == \"soykb\") & (durations < timedelta(hours=13))].copy()\n",
    "soykb[\"size\"] = pd.to_numeric(soykb[\"size\"], downcast=\"float\")"
   ]
  },
  {
   "cell_type": "code",
   "execution_count": 93,
   "metadata": {
    "pycharm": {
     "name": "#%%\n"
    }
   },
   "outputs": [],
   "source": [
    "steps = [10, 15, 30, 60]\n",
    "n_pasts = [2 * 60, 3 * 60, 4 * 60, 5 * 60, 10 * 60]\n",
    "n_futures = [2 * 60, 3 * 60, 4 * 60, 5 * 60, 10 * 60]\n",
    "\n",
    "create_dataset(hf_data, dataset, montage2_gte_5min, steps, n_pasts, n_futures)"
   ]
  }
 ],
 "metadata": {
  "kernelspec": {
   "display_name": "Python 3",
   "language": "python",
   "name": "python3"
  },
  "language_info": {
   "codemirror_mode": {
    "name": "ipython",
    "version": 3
   },
   "file_extension": ".py",
   "mimetype": "text/x-python",
   "name": "python",
   "nbconvert_exporter": "python",
   "pygments_lexer": "ipython3",
   "version": "3.8.5"
  }
 },
 "nbformat": 4,
 "nbformat_minor": 4
}