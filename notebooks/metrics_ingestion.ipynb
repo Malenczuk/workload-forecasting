{
 "cells": [
  {
   "cell_type": "code",
   "execution_count": null,
   "metadata": {},
   "outputs": [],
   "source": [
    "from utils.metrics_ingestion import *\n",
    "\n",
    "\"\"\"\n",
    "Directory containing metrics with a following structure\n",
    "\n",
    "parsed-logs/\n",
    "├─ aws/\n",
    "│  ├─ t3.large/\n",
    "│  │  ├─ montage__2.0__1.0.0__2020-06-01-19-02-29-05-13-17-08-51/\n",
    "│  │  │  ├─ job_descriptions.jsonl\n",
    "│  │  │  ├─ metrics.jsonl\n",
    "│  │  │  ├─ sys_info.jsonl\n",
    "│  │  ├─ soykb__134__1.0.0__2020-06-21-01-30-50-05-13-17-08-51/\n",
    "│  │  │  ├─ ...\n",
    "├─ gcloud/\n",
    "│  ├─ n1-standard-4/\n",
    "│  │  ├─ montage2__1.0__1.0.0__2020-06-21-19-34-03/\n",
    "│  │  │  ├─ ...\n",
    "│  ├─ n2-standard-4/\n",
    "│  │  ├─ soykb__446__1.0.0__2020-06-23-08-02-29/\n",
    "│  │  │  ├─ ...\n",
    "\"\"\"\n",
    "base_path = Path(\"parsed-logs\")"
   ]
  },
  {
   "cell_type": "code",
   "execution_count": null,
   "metadata": {
    "pycharm": {
     "name": "#%%\n"
    }
   },
   "outputs": [],
   "source": [
    "\"\"\"\n",
    "Prepare providers data paths\n",
    "\"\"\"\n",
    "providers = logs(base_path)"
   ]
  },
  {
   "cell_type": "code",
   "execution_count": null,
   "outputs": [],
   "source": [
    "\"\"\"\n",
    "Parse the metrics located underneath the paths of each provider\n",
    "\"\"\"\n",
    "hf_data = parse_metrics_data(providers)"
   ],
   "metadata": {
    "collapsed": false,
    "pycharm": {
     "name": "#%%\n"
    }
   }
  },
  {
   "cell_type": "code",
   "execution_count": null,
   "outputs": [],
   "source": [
    "\"\"\"\n",
    "Extract the labels used to convert the logs from workflow execution into OpenMetric standard\n",
    "\"\"\"\n",
    "hf_labels = parse_metrics_labels(providers)"
   ],
   "metadata": {
    "collapsed": false,
    "pycharm": {
     "name": "#%%\n"
    }
   }
  },
  {
   "cell_type": "code",
   "execution_count": null,
   "outputs": [],
   "source": [
    "\"\"\"\n",
    "Generates OpenMetrics for each of the workflow executions,\n",
    "and save the in each of the logs folder under the name `metrics.om`\n",
    "\"\"\"\n",
    "generate_open_metrics(providers, hf_labels)"
   ],
   "metadata": {
    "collapsed": false,
    "pycharm": {
     "name": "#%%\n"
    }
   }
  },
  {
   "cell_type": "code",
   "execution_count": null,
   "outputs": [],
   "source": [
    "%%bash\n",
    "# create prometheus blocks from metrics.om files\n",
    "for m in parsed-logs/**/metrics.om;\n",
    "    prlimit --nofile=8192 promtool tsdb create-blocks-from openmetrics $m prometheus-db;\n",
    "end"
   ],
   "metadata": {
    "collapsed": false,
    "pycharm": {
     "name": "#%%\n"
    }
   }
  },
  {
   "cell_type": "code",
   "execution_count": null,
   "outputs": [],
   "source": [
    "# start the prometheus server\n",
    "!docker run -d -p 9090:9090 \\\n",
    "    -v prometheus-db:/prometheus \\\n",
    "    --name prometheus \\\n",
    "    prom/prometheus \\\n",
    "    --storage.tsdb.retention.time=3y \\\n",
    "    --config.file=/etc/prometheus/prometheus.yml \\\n",
    "    --storage.tsdb.path=/prometheus \\\n",
    "    --storage.tsdb.allow-overlapping-blocks \\\n",
    "    --query.lookback-delta=3s \\\n",
    "    --web.console.libraries=/usr/share/prometheus/console_libraries \\\n",
    "    --web.console.templates=/usr/share/prometheus/consoles"
   ],
   "metadata": {
    "collapsed": false,
    "pycharm": {
     "name": "#%%\n"
    }
   }
  }
 ],
 "metadata": {
  "kernelspec": {
   "display_name": "Python 3",
   "language": "python",
   "name": "python3"
  },
  "language_info": {
   "codemirror_mode": {
    "name": "ipython",
    "version": 3
   },
   "file_extension": ".py",
   "mimetype": "text/x-python",
   "name": "python",
   "nbconvert_exporter": "python",
   "pygments_lexer": "ipython3",
   "version": "3.8.5"
  }
 },
 "nbformat": 4,
 "nbformat_minor": 4
}